{
 "cells": [
  {
   "cell_type": "markdown",
   "metadata": {},
   "source": [
    "### Predicting Entailment"
   ]
  },
  {
   "cell_type": "code",
   "execution_count": 1,
   "metadata": {},
   "outputs": [],
   "source": [
    "import os"
   ]
  },
  {
   "cell_type": "markdown",
   "metadata": {},
   "source": [
    "#### Choosing the BILSTM-Max model and load the checkpoint"
   ]
  },
  {
   "cell_type": "code",
   "execution_count": 2,
   "metadata": {},
   "outputs": [],
   "source": [
    "checkpoint = \"best_model_dir_1234/bilstm-max_best.pth\"\n",
    "encoder = \"bilstm-max\""
   ]
  },
  {
   "cell_type": "code",
   "execution_count": 3,
   "metadata": {},
   "outputs": [],
   "source": [
    "premise_1 = \"Two men sitting in the sun\"\n",
    "hypothesis_1 = \"Nobody is sitting in the shade\""
   ]
  },
  {
   "cell_type": "code",
   "execution_count": 4,
   "metadata": {},
   "outputs": [
    {
     "name": "stdout",
     "output_type": "stream",
     "text": [
      "04/22 09:03:28 PM: Printing arguments : Namespace(checkpoint='best_model_dir_1234/bilstm-max_best.pth', encoder='bilstm-max', seed=1234, premise='Two men sitting in the sun', hypothesis='Nobody is sitting in the shade')\n",
      "04/22 09:03:28 PM: Setting seed...\n",
      "04/22 09:03:28 PM: Vocab already exists. Loading from disk...\n",
      "04/22 09:03:37 PM: Loading the model checkpoint from best_model_dir_1234/bilstm-max_best.pth\n",
      "04/22 09:03:37 PM: Loading the model checkpoint trained in SNLI dataset\n",
      "04/22 09:03:38 PM: Premise: Two men sitting in the sun\n",
      "04/22 09:03:38 PM: Hypothesis: Nobody is sitting in the shade\n",
      "04/22 09:03:38 PM: Entailment prediction: Contradiction\n"
     ]
    }
   ],
   "source": [
    "! python predict.py $checkpoint --encoder $encoder --premise \"$premise_1\" --hypothesis \"$hypothesis_1\""
   ]
  },
  {
   "cell_type": "code",
   "execution_count": 5,
   "metadata": {},
   "outputs": [],
   "source": [
    "premise_2 = \"A man is walking a dog\"\n",
    "hypothesis_2 = \"No cat is outside\""
   ]
  },
  {
   "cell_type": "code",
   "execution_count": 6,
   "metadata": {},
   "outputs": [
    {
     "name": "stdout",
     "output_type": "stream",
     "text": [
      "04/22 09:03:42 PM: Printing arguments : Namespace(checkpoint='best_model_dir_1234/bilstm-max_best.pth', encoder='bilstm-max', seed=1234, premise='A man is walking a dog', hypothesis='No cat is outside')\n",
      "04/22 09:03:42 PM: Setting seed...\n",
      "04/22 09:03:42 PM: Vocab already exists. Loading from disk...\n",
      "04/22 09:03:51 PM: Loading the model checkpoint from best_model_dir_1234/bilstm-max_best.pth\n",
      "04/22 09:03:52 PM: Loading the model checkpoint trained in SNLI dataset\n",
      "04/22 09:03:52 PM: Premise: A man is walking a dog\n",
      "04/22 09:03:52 PM: Hypothesis: No cat is outside\n",
      "04/22 09:03:52 PM: Entailment prediction: Contradiction\n"
     ]
    }
   ],
   "source": [
    "! python predict.py $checkpoint --encoder $encoder --premise \"$premise_2\" --hypothesis \"$hypothesis_2\""
   ]
  },
  {
   "cell_type": "code",
   "execution_count": 7,
   "metadata": {},
   "outputs": [],
   "source": [
    "quartile_list = [0.25, 0.5]"
   ]
  },
  {
   "cell_type": "code",
   "execution_count": 8,
   "metadata": {},
   "outputs": [
    {
     "name": "stdout",
     "output_type": "stream",
     "text": [
      "usage: eval_dataset_quartiles.py [-h]\n",
      "                                 [--encoder {baseline,unilstm,bilstm,bilstm-max}]\n",
      "                                 [--seed SEED] [--num_workers NUM_WORKERS]\n",
      "                                 [--batch_size BATCH_SIZE]\n",
      "                                 [--quartile_list QUARTILE_LIST]\n",
      "                                 checkpoint\n",
      "eval_dataset_quartiles.py: error: unrecognized arguments: 0.5]\n"
     ]
    }
   ],
   "source": [
    "! python eval_dataset_quartiles.py $checkpoint --encoder $encoder --quartile_list $quartile_list"
   ]
  }
 ],
 "metadata": {
  "kernelspec": {
   "display_name": "atcs-pr-gpu",
   "language": "python",
   "name": "python3"
  },
  "language_info": {
   "codemirror_mode": {
    "name": "ipython",
    "version": 3
   },
   "file_extension": ".py",
   "mimetype": "text/x-python",
   "name": "python",
   "nbconvert_exporter": "python",
   "pygments_lexer": "ipython3",
   "version": "3.11.5"
  },
  "orig_nbformat": 4
 },
 "nbformat": 4,
 "nbformat_minor": 2
}
