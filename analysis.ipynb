{
 "cells": [
  {
   "cell_type": "markdown",
   "metadata": {},
   "source": [
    "### Predicting Entailment"
   ]
  },
  {
   "cell_type": "code",
   "execution_count": 1,
   "metadata": {},
   "outputs": [],
   "source": [
    "import os"
   ]
  },
  {
   "cell_type": "markdown",
   "metadata": {},
   "source": [
    "#### Choosing the BILSTM model and load the checkpoint"
   ]
  },
  {
   "cell_type": "code",
   "execution_count": 2,
   "metadata": {},
   "outputs": [],
   "source": [
    "checkpoint = \"best_model_dir_1234/bilstm-max_best.pth\"\n",
    "encoder = \"bilstm-max\""
   ]
  },
  {
   "cell_type": "code",
   "execution_count": 3,
   "metadata": {},
   "outputs": [],
   "source": [
    "premise_1 = \"Two men sitting in the sun\"\n",
    "hypothesis_1 = \"Nobody is sitting in the shade\""
   ]
  },
  {
   "cell_type": "code",
   "execution_count": 4,
   "metadata": {},
   "outputs": [
    {
     "name": "stdout",
     "output_type": "stream",
     "text": [
      "04/22 09:20:35 PM: Printing arguments : Namespace(checkpoint='best_model_dir_1234/bilstm-max_best.pth', encoder='bilstm-max', seed=1234, premise='Two men sitting in the sun', hypothesis='Nobody is sitting in the shade')\n",
      "04/22 09:20:35 PM: Setting seed...\n",
      "04/22 09:20:35 PM: Vocab already exists. Loading from disk...\n",
      "04/22 09:20:43 PM: Loading the model checkpoint from best_model_dir_1234/bilstm-max_best.pth\n",
      "04/22 09:20:44 PM: Loading the model checkpoint trained in SNLI dataset\n",
      "04/22 09:20:44 PM: Premise: Two men sitting in the sun\n",
      "04/22 09:20:44 PM: Hypothesis: Nobody is sitting in the shade\n",
      "04/22 09:20:44 PM: Entailment prediction: Contradiction\n"
     ]
    }
   ],
   "source": [
    "! python predict.py $checkpoint --encoder $encoder --premise \"$premise_1\" --hypothesis \"$hypothesis_1\""
   ]
  },
  {
   "cell_type": "code",
   "execution_count": 5,
   "metadata": {},
   "outputs": [],
   "source": [
    "premise_2 = \"A man is walking a dog\"\n",
    "hypothesis_2 = \"No cat is outside\""
   ]
  },
  {
   "cell_type": "code",
   "execution_count": 6,
   "metadata": {},
   "outputs": [
    {
     "name": "stdout",
     "output_type": "stream",
     "text": [
      "04/22 09:20:48 PM: Printing arguments : Namespace(checkpoint='best_model_dir_1234/bilstm-max_best.pth', encoder='bilstm-max', seed=1234, premise='A man is walking a dog', hypothesis='No cat is outside')\n",
      "04/22 09:20:48 PM: Setting seed...\n",
      "04/22 09:20:48 PM: Vocab already exists. Loading from disk...\n",
      "04/22 09:20:57 PM: Loading the model checkpoint from best_model_dir_1234/bilstm-max_best.pth\n",
      "04/22 09:20:57 PM: Loading the model checkpoint trained in SNLI dataset\n",
      "04/22 09:20:58 PM: Premise: A man is walking a dog\n",
      "04/22 09:20:58 PM: Hypothesis: No cat is outside\n",
      "04/22 09:20:58 PM: Entailment prediction: Contradiction\n"
     ]
    }
   ],
   "source": [
    "! python predict.py $checkpoint --encoder $encoder --premise \"$premise_2\" --hypothesis \"$hypothesis_2\""
   ]
  },
  {
   "cell_type": "code",
   "execution_count": 4,
   "metadata": {},
   "outputs": [
    {
     "name": "stdout",
     "output_type": "stream",
     "text": [
      "04/22 09:21:52 PM: Printing arguments : Namespace(checkpoint='best_model_dir_1234/bilstm-max_best.pth', encoder='bilstm-max', seed=1234, num_workers=4, batch_size=64, quartile_list=[0.1, 0.9])\n",
      "04/22 09:21:52 PM: Setting seed...\n",
      "04/22 09:21:52 PM: Vocab already exists. Loading from disk...\n",
      "04/22 09:22:01 PM: Loading the model checkpoint from best_model_dir_1234/bilstm-max_best.pth\n",
      "04/22 09:22:02 PM: Loading the model checkpoint trained in SNLI dataset\n",
      "Map: 100%|████████████████████████| 9824/9824 [00:00<00:00, 13293.10 examples/s]\n",
      "Filter: 100%|█████████████████████| 9824/9824 [00:00<00:00, 38436.60 examples/s]\n",
      "Filter: 100%|█████████████████████| 9824/9824 [00:00<00:00, 38473.92 examples/s]\n",
      "Filter: 100%|█████████████████████| 9824/9824 [00:00<00:00, 38915.85 examples/s]\n",
      "04/22 09:22:04 PM: Shortest dataset size: 822\n",
      "04/22 09:22:04 PM: Middle dataset size: 7897\n",
      "04/22 09:22:04 PM: Longest dataset size: 1105\n",
      "04/22 09:22:04 PM: average sentence length (sum of premise + hypothesis) of the dataset\n",
      "04/22 09:22:04 PM: Quartile 0: 12.77\n",
      "04/22 09:22:04 PM: Quartile 1: 22.60\n",
      "04/22 09:22:04 PM: Quartile 2: 39.17\n",
      "04/22 09:22:04 PM: Evaluating the model on each quartile dataset\n",
      "04/22 09:22:04 PM: Running evaluation on small dataset\n",
      "04/22 09:22:05 PM: Batch: 1/13, Loss: 0.7967, Acc: 81.2500\n",
      "04/22 09:22:05 PM: Batch: 11/13, Loss: 0.4161, Acc: 84.3750\n",
      "04/22 09:22:05 PM: -----------------------------------\n",
      "04/22 09:22:05 PM: Test Accuracy: 84.4282 on small dataset\n",
      "04/22 09:22:05 PM: -----------------------------------\n",
      "04/22 09:22:05 PM: Running evaluation on medium dataset\n",
      "04/22 09:22:05 PM: Batch: 1/124, Loss: 0.5188, Acc: 78.1250\n",
      "04/22 09:22:06 PM: Batch: 11/124, Loss: 0.7210, Acc: 81.2500\n",
      "04/22 09:22:06 PM: Batch: 21/124, Loss: 0.3716, Acc: 85.9375\n",
      "04/22 09:22:06 PM: Batch: 31/124, Loss: 0.3514, Acc: 85.9375\n",
      "04/22 09:22:06 PM: Batch: 41/124, Loss: 0.5167, Acc: 81.2500\n",
      "04/22 09:22:06 PM: Batch: 51/124, Loss: 0.3553, Acc: 89.0625\n",
      "04/22 09:22:06 PM: Batch: 61/124, Loss: 0.4816, Acc: 84.3750\n",
      "04/22 09:22:06 PM: Batch: 71/124, Loss: 0.6860, Acc: 82.8125\n",
      "04/22 09:22:06 PM: Batch: 81/124, Loss: 0.4482, Acc: 82.8125\n",
      "04/22 09:22:06 PM: Batch: 91/124, Loss: 0.3295, Acc: 90.6250\n",
      "04/22 09:22:06 PM: Batch: 101/124, Loss: 0.2998, Acc: 92.1875\n",
      "04/22 09:22:06 PM: Batch: 111/124, Loss: 0.4055, Acc: 84.3750\n",
      "04/22 09:22:06 PM: Batch: 121/124, Loss: 0.2877, Acc: 84.3750\n",
      "04/22 09:22:07 PM: -----------------------------------\n",
      "04/22 09:22:07 PM: Test Accuracy: 84.4118 on medium dataset\n",
      "04/22 09:22:07 PM: -----------------------------------\n",
      "04/22 09:22:07 PM: Running evaluation on large dataset\n",
      "04/22 09:22:07 PM: Batch: 1/18, Loss: 0.3628, Acc: 85.9375\n",
      "04/22 09:22:07 PM: Batch: 11/18, Loss: 0.3892, Acc: 84.3750\n",
      "04/22 09:22:07 PM: -----------------------------------\n",
      "04/22 09:22:07 PM: Test Accuracy: 81.4480 on large dataset\n",
      "04/22 09:22:07 PM: -----------------------------------\n"
     ]
    }
   ],
   "source": [
    "! python eval_dataset_quartiles.py $checkpoint --encoder $encoder"
   ]
  }
 ],
 "metadata": {
  "kernelspec": {
   "display_name": "atcs-pr-gpu",
   "language": "python",
   "name": "python3"
  },
  "language_info": {
   "codemirror_mode": {
    "name": "ipython",
    "version": 3
   },
   "file_extension": ".py",
   "mimetype": "text/x-python",
   "name": "python",
   "nbconvert_exporter": "python",
   "pygments_lexer": "ipython3",
   "version": "3.11.5"
  },
  "orig_nbformat": 4
 },
 "nbformat": 4,
 "nbformat_minor": 2
}
